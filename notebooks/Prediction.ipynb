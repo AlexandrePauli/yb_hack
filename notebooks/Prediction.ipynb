{
 "cells": [
  {
   "cell_type": "code",
   "execution_count": 1,
   "id": "47914d39",
   "metadata": {},
   "outputs": [],
   "source": [
    "%load_ext autoreload\n",
    "%autoreload 2"
   ]
  },
  {
   "cell_type": "code",
   "execution_count": 2,
   "id": "89cf62a1",
   "metadata": {},
   "outputs": [],
   "source": [
    "import os\n",
    "import sys\n",
    "import pandas as pd\n",
    "import numpy as np\n",
    "import plotly.graph_objects as go\n",
    "import datetime\n",
    "from sklearn.linear_model import LinearRegression\n"
   ]
  },
  {
   "cell_type": "code",
   "execution_count": 3,
   "id": "287faea7",
   "metadata": {},
   "outputs": [],
   "source": [
    "pd.options.display.max_columns = None\n",
    "pd.options.display.max_rows = 500"
   ]
  },
  {
   "cell_type": "code",
   "execution_count": 4,
   "id": "9e4ef267",
   "metadata": {},
   "outputs": [],
   "source": [
    "root = \"yb_hack\"\n",
    "sys.path.append(os.getcwd()[:os.getcwd().find(root)+len(root)])"
   ]
  },
  {
   "cell_type": "code",
   "execution_count": 5,
   "id": "0ae76c9e",
   "metadata": {},
   "outputs": [],
   "source": [
    "BATH_PATH= r'C:\\\\Users\\\\Swiss SDI\\\\OneDrive\\\\Bureau\\\\hackathon\\\\yb_hack\\\\data\\\\Daten'"
   ]
  },
  {
   "cell_type": "code",
   "execution_count": 6,
   "id": "6c71790b",
   "metadata": {},
   "outputs": [],
   "source": [
    "lz_path = os.path.join(BATH_PATH, '0_Lagerzugänge 110_200_10_01.01.20_31.05.20.xlsx')\n",
    "lz = pd.read_excel(io=lz_path, header=2)\n",
    "la_path = os.path.join(BATH_PATH, '0_Lagerabgänge 110_200_10_01.01.20_31.05.20.xlsx')\n",
    "la = pd.read_excel(io=la_path, header=2)\n",
    "sorten_path = os.path.join(BATH_PATH, '0_Sorten_und_Sortengruppen.xlsx')\n",
    "sorten = pd.read_excel(io=sorten_path, header=0)\n",
    "transport_path = os.path.join(BATH_PATH, '0_Transportaufträge 110 010120_310520.xlsx')\n",
    "transport = pd.read_excel(io=transport_path, header=2)"
   ]
  },
  {
   "cell_type": "code",
   "execution_count": 7,
   "id": "d89d9393",
   "metadata": {},
   "outputs": [
    {
     "data": {
      "text/html": [
       "<div>\n",
       "<style scoped>\n",
       "    .dataframe tbody tr th:only-of-type {\n",
       "        vertical-align: middle;\n",
       "    }\n",
       "\n",
       "    .dataframe tbody tr th {\n",
       "        vertical-align: top;\n",
       "    }\n",
       "\n",
       "    .dataframe thead th {\n",
       "        text-align: right;\n",
       "    }\n",
       "</style>\n",
       "<table border=\"1\" class=\"dataframe\">\n",
       "  <thead>\n",
       "    <tr style=\"text-align: right;\">\n",
       "      <th></th>\n",
       "      <th>Gruppe</th>\n",
       "      <th>Sorte</th>\n",
       "      <th>Sortenbezeichnung</th>\n",
       "      <th>Menge</th>\n",
       "      <th>Preis</th>\n",
       "      <th>ME</th>\n",
       "      <th>Kosten</th>\n",
       "      <th>Wert</th>\n",
       "      <th>L-Datum</th>\n",
       "      <th>Wiege-Nr.</th>\n",
       "      <th>Konto</th>\n",
       "      <th>Beleg-Nr</th>\n",
       "      <th>Lager</th>\n",
       "      <th>Abt</th>\n",
       "      <th>PC</th>\n",
       "      <th>Waggon/KFZ</th>\n",
       "      <th>Kontrakt</th>\n",
       "      <th>SB</th>\n",
       "      <th>WIP</th>\n",
       "      <th>Scheck</th>\n",
       "    </tr>\n",
       "  </thead>\n",
       "  <tbody>\n",
       "    <tr>\n",
       "      <th>0</th>\n",
       "      <td>105.0</td>\n",
       "      <td>11161.0</td>\n",
       "      <td>Schwerschrott 8s2</td>\n",
       "      <td>0.0</td>\n",
       "      <td>0.0</td>\n",
       "      <td>to</td>\n",
       "      <td>0.0</td>\n",
       "      <td>-510.2</td>\n",
       "      <td>2020-01-01</td>\n",
       "      <td>0.0</td>\n",
       "      <td>9110610.0</td>\n",
       "      <td>130050808</td>\n",
       "      <td>200.0</td>\n",
       "      <td>110.0</td>\n",
       "      <td>0.0</td>\n",
       "      <td>NaN</td>\n",
       "      <td>NaN</td>\n",
       "      <td>DOG</td>\n",
       "      <td>NaN</td>\n",
       "      <td>0.0</td>\n",
       "    </tr>\n",
       "  </tbody>\n",
       "</table>\n",
       "</div>"
      ],
      "text/plain": [
       "   Gruppe    Sorte  Sortenbezeichnung  Menge  Preis  ME  Kosten   Wert  \\\n",
       "0   105.0  11161.0  Schwerschrott 8s2    0.0    0.0  to     0.0 -510.2   \n",
       "\n",
       "     L-Datum  Wiege-Nr.      Konto   Beleg-Nr  Lager    Abt   PC Waggon/KFZ  \\\n",
       "0 2020-01-01        0.0  9110610.0  130050808  200.0  110.0  0.0        NaN   \n",
       "\n",
       "   Kontrakt   SB  WIP  Scheck  \n",
       "0       NaN  DOG  NaN     0.0  "
      ]
     },
     "execution_count": 7,
     "metadata": {},
     "output_type": "execute_result"
    }
   ],
   "source": [
    "lz.head(1)"
   ]
  },
  {
   "cell_type": "code",
   "execution_count": 8,
   "id": "0ab5ae06",
   "metadata": {},
   "outputs": [
    {
     "data": {
      "text/html": [
       "<div>\n",
       "<style scoped>\n",
       "    .dataframe tbody tr th:only-of-type {\n",
       "        vertical-align: middle;\n",
       "    }\n",
       "\n",
       "    .dataframe tbody tr th {\n",
       "        vertical-align: top;\n",
       "    }\n",
       "\n",
       "    .dataframe thead th {\n",
       "        text-align: right;\n",
       "    }\n",
       "</style>\n",
       "<table border=\"1\" class=\"dataframe\">\n",
       "  <thead>\n",
       "    <tr style=\"text-align: right;\">\n",
       "      <th></th>\n",
       "      <th>Gruppe</th>\n",
       "      <th>Sorte</th>\n",
       "      <th>Sortenbezeichnung</th>\n",
       "      <th>Menge</th>\n",
       "      <th>Preis</th>\n",
       "      <th>ME</th>\n",
       "      <th>Kosten</th>\n",
       "      <th>Wert</th>\n",
       "      <th>L-Datum</th>\n",
       "      <th>Wiege-Nr.</th>\n",
       "      <th>Konto</th>\n",
       "      <th>Beleg-Nr</th>\n",
       "      <th>Lager</th>\n",
       "      <th>Abt</th>\n",
       "      <th>PC</th>\n",
       "      <th>Waggon/KFZ</th>\n",
       "      <th>Kontrakt</th>\n",
       "      <th>SB</th>\n",
       "      <th>WIP</th>\n",
       "      <th>Scheck</th>\n",
       "    </tr>\n",
       "  </thead>\n",
       "  <tbody>\n",
       "    <tr>\n",
       "      <th>0</th>\n",
       "      <td>100.0</td>\n",
       "      <td>10000.0</td>\n",
       "      <td>Leichteisen / Shreddervormaterial</td>\n",
       "      <td>0</td>\n",
       "      <td>0.0</td>\n",
       "      <td>to</td>\n",
       "      <td>0.0</td>\n",
       "      <td>11.8</td>\n",
       "      <td>2020-01-01</td>\n",
       "      <td>1.0</td>\n",
       "      <td>9110620.0</td>\n",
       "      <td>130050609</td>\n",
       "      <td>200.0</td>\n",
       "      <td>110.0</td>\n",
       "      <td>0.0</td>\n",
       "      <td>NaN</td>\n",
       "      <td>NaN</td>\n",
       "      <td>ANA</td>\n",
       "      <td>NaN</td>\n",
       "      <td>0.0</td>\n",
       "    </tr>\n",
       "  </tbody>\n",
       "</table>\n",
       "</div>"
      ],
      "text/plain": [
       "   Gruppe    Sorte                   Sortenbezeichnung  Menge  Preis  ME  \\\n",
       "0   100.0  10000.0  Leichteisen / Shreddervormaterial       0    0.0  to   \n",
       "\n",
       "   Kosten  Wert    L-Datum  Wiege-Nr.      Konto   Beleg-Nr  Lager    Abt  \\\n",
       "0     0.0  11.8 2020-01-01        1.0  9110620.0  130050609  200.0  110.0   \n",
       "\n",
       "    PC Waggon/KFZ Kontrakt   SB  WIP  Scheck  \n",
       "0  0.0        NaN      NaN  ANA  NaN     0.0  "
      ]
     },
     "execution_count": 8,
     "metadata": {},
     "output_type": "execute_result"
    }
   ],
   "source": [
    "la.head(1)"
   ]
  },
  {
   "cell_type": "code",
   "execution_count": 9,
   "id": "21d9aeff",
   "metadata": {},
   "outputs": [
    {
     "data": {
      "text/html": [
       "<div>\n",
       "<style scoped>\n",
       "    .dataframe tbody tr th:only-of-type {\n",
       "        vertical-align: middle;\n",
       "    }\n",
       "\n",
       "    .dataframe tbody tr th {\n",
       "        vertical-align: top;\n",
       "    }\n",
       "\n",
       "    .dataframe thead th {\n",
       "        text-align: right;\n",
       "    }\n",
       "</style>\n",
       "<table border=\"1\" class=\"dataframe\">\n",
       "  <thead>\n",
       "    <tr style=\"text-align: right;\">\n",
       "      <th></th>\n",
       "      <th>Gruppe</th>\n",
       "      <th>Gruppe Kurzname</th>\n",
       "      <th>Sorte</th>\n",
       "      <th>Kurzname</th>\n",
       "      <th>Bezeichnung</th>\n",
       "      <th>Sortenklasse</th>\n",
       "      <th>Sparte</th>\n",
       "      <th>Mengeneinheit</th>\n",
       "      <th>Umrechnungsfaktor Einkauf</th>\n",
       "      <th>je ME</th>\n",
       "      <th>Umrechnungsfaktor Verkauf</th>\n",
       "      <th>je ME.1</th>\n",
       "    </tr>\n",
       "  </thead>\n",
       "  <tbody>\n",
       "    <tr>\n",
       "      <th>0</th>\n",
       "      <td>100</td>\n",
       "      <td>SHREDDERPR</td>\n",
       "      <td>10000</td>\n",
       "      <td>LEICHTEISE</td>\n",
       "      <td>Leichteisen / Shreddervormaterial</td>\n",
       "      <td>Bestandsführung auf Gruppenebene</td>\n",
       "      <td>FE-Schrott</td>\n",
       "      <td>to</td>\n",
       "      <td>0</td>\n",
       "      <td>NaN</td>\n",
       "      <td>0</td>\n",
       "      <td>NaN</td>\n",
       "    </tr>\n",
       "  </tbody>\n",
       "</table>\n",
       "</div>"
      ],
      "text/plain": [
       "   Gruppe Gruppe Kurzname  Sorte    Kurzname  \\\n",
       "0     100      SHREDDERPR  10000  LEICHTEISE   \n",
       "\n",
       "                         Bezeichnung                      Sortenklasse  \\\n",
       "0  Leichteisen / Shreddervormaterial  Bestandsführung auf Gruppenebene   \n",
       "\n",
       "       Sparte Mengeneinheit  Umrechnungsfaktor Einkauf je ME  \\\n",
       "0  FE-Schrott            to                          0   NaN   \n",
       "\n",
       "   Umrechnungsfaktor Verkauf je ME.1  \n",
       "0                          0     NaN  "
      ]
     },
     "execution_count": 9,
     "metadata": {},
     "output_type": "execute_result"
    }
   ],
   "source": [
    "sorten.head(1)"
   ]
  },
  {
   "cell_type": "code",
   "execution_count": 10,
   "id": "acfd77e5",
   "metadata": {},
   "outputs": [
    {
     "data": {
      "text/html": [
       "<div>\n",
       "<style scoped>\n",
       "    .dataframe tbody tr th:only-of-type {\n",
       "        vertical-align: middle;\n",
       "    }\n",
       "\n",
       "    .dataframe tbody tr th {\n",
       "        vertical-align: top;\n",
       "    }\n",
       "\n",
       "    .dataframe thead th {\n",
       "        text-align: right;\n",
       "    }\n",
       "</style>\n",
       "<table border=\"1\" class=\"dataframe\">\n",
       "  <thead>\n",
       "    <tr style=\"text-align: right;\">\n",
       "      <th></th>\n",
       "      <th>Datum</th>\n",
       "      <th>Wiegenr</th>\n",
       "      <th>Fahrauftrag</th>\n",
       "      <th>Fahrzeug</th>\n",
       "      <th>Hänger</th>\n",
       "      <th>Behälter Anz</th>\n",
       "      <th>Anteil</th>\n",
       "      <th>Größe</th>\n",
       "      <th>m3/t</th>\n",
       "      <th>Anfahrstelle</th>\n",
       "      <th>Ziel</th>\n",
       "      <th>Sorte</th>\n",
       "      <th>Bezeichnung</th>\n",
       "      <th>EAS</th>\n",
       "      <th>Menge (t)</th>\n",
       "      <th>Istkosten</th>\n",
       "      <th>Plankosten</th>\n",
       "      <th>Istkosten pro To</th>\n",
       "      <th>Plankosten pro To</th>\n",
       "      <th>Abweichung pro To</th>\n",
       "    </tr>\n",
       "  </thead>\n",
       "  <tbody>\n",
       "    <tr>\n",
       "      <th>0</th>\n",
       "      <td>[100006] ELREC AG, Trimmis</td>\n",
       "      <td>NaN</td>\n",
       "      <td>NaN</td>\n",
       "      <td>NaN</td>\n",
       "      <td>NaN</td>\n",
       "      <td>NaN</td>\n",
       "      <td>0.0</td>\n",
       "      <td>0.0</td>\n",
       "      <td>0.0</td>\n",
       "      <td>NaN</td>\n",
       "      <td>NaN</td>\n",
       "      <td>NaN</td>\n",
       "      <td>NaN</td>\n",
       "      <td>NaN</td>\n",
       "      <td>0.0</td>\n",
       "      <td>0.0</td>\n",
       "      <td>0.0</td>\n",
       "      <td>0.0</td>\n",
       "      <td>0.0</td>\n",
       "      <td>0.0</td>\n",
       "    </tr>\n",
       "  </tbody>\n",
       "</table>\n",
       "</div>"
      ],
      "text/plain": [
       "                        Datum  Wiegenr  Fahrauftrag Fahrzeug  Hänger  \\\n",
       "0  [100006] ELREC AG, Trimmis      NaN          NaN      NaN     NaN   \n",
       "\n",
       "   Behälter Anz  Anteil  Größe  m3/t Anfahrstelle Ziel  Sorte Bezeichnung  \\\n",
       "0           NaN     0.0    0.0   0.0          NaN  NaN    NaN         NaN   \n",
       "\n",
       "   EAS  Menge (t)  Istkosten  Plankosten  Istkosten pro To  Plankosten pro To  \\\n",
       "0  NaN        0.0        0.0         0.0               0.0                0.0   \n",
       "\n",
       "   Abweichung pro To  \n",
       "0                0.0  "
      ]
     },
     "execution_count": 10,
     "metadata": {},
     "output_type": "execute_result"
    }
   ],
   "source": [
    "transport.head(1)"
   ]
  },
  {
   "cell_type": "markdown",
   "id": "8dfa4005",
   "metadata": {},
   "source": [
    "# Analyse Stock"
   ]
  },
  {
   "cell_type": "code",
   "execution_count": 11,
   "id": "c7cab2b1",
   "metadata": {},
   "outputs": [],
   "source": [
    "transport[\"date\"] = pd.to_datetime(transport[\"Datum\"], errors='coerce')\n",
    "transport[\"week\"] = pd.to_datetime(transport[\"Datum\"], errors='coerce').dt.isocalendar()[\"week\"]\n",
    "transport[\"month\"] = pd.to_datetime(transport[\"Datum\"], errors='coerce').dt.month"
   ]
  },
  {
   "cell_type": "code",
   "execution_count": 12,
   "id": "1d4fcb9c",
   "metadata": {},
   "outputs": [],
   "source": [
    "transport[\"Menge\"] = transport[\"Menge (t)\"] * 1000"
   ]
  },
  {
   "cell_type": "code",
   "execution_count": 13,
   "id": "33a68102",
   "metadata": {},
   "outputs": [],
   "source": [
    "transport[\"pred\"] = 0"
   ]
  },
  {
   "cell_type": "code",
   "execution_count": 14,
   "id": "4319f380",
   "metadata": {},
   "outputs": [],
   "source": [
    "def enter(x, y):\n",
    "    if (\"Thommen AG (B1)\" in str(x)) & (\"Thommen AG (B1)\" not in str(y)):\n",
    "        return 0\n",
    "    \n",
    "    if (\"Thommen AG (B1)\" not in str(x)) & (\"Thommen AG (B1)\" in str(y)):\n",
    "        return 1\n",
    "    else:\n",
    "        return float(\"NaN\")"
   ]
  },
  {
   "cell_type": "code",
   "execution_count": 15,
   "id": "6271ded3",
   "metadata": {},
   "outputs": [],
   "source": [
    "transport[\"enter\"] = transport[[\"Anfahrstelle\", \"Ziel\"]].apply(lambda v: enter(v[0], v[1]), axis=1)"
   ]
  },
  {
   "cell_type": "code",
   "execution_count": 16,
   "id": "276d39aa",
   "metadata": {},
   "outputs": [],
   "source": [
    "transport = transport.loc[transport[\"enter\"].isna() == False]\n",
    "transport = transport.loc[transport[\"Menge\"] != 0]"
   ]
  },
  {
   "cell_type": "code",
   "execution_count": 17,
   "id": "b3742697",
   "metadata": {},
   "outputs": [],
   "source": [
    "lz = lz.loc[lz[\"Menge\"] != 0]\n",
    "la = la.loc[la[\"Menge\"] != 0]"
   ]
  },
  {
   "cell_type": "code",
   "execution_count": 18,
   "id": "01436083",
   "metadata": {},
   "outputs": [],
   "source": [
    "lz[\"enter\"] = 1\n",
    "lz[\"pred\"] = 0\n",
    "la[\"enter\"] = 0\n",
    "la[\"pred\"] = 0"
   ]
  },
  {
   "cell_type": "code",
   "execution_count": 19,
   "id": "d62d92ac",
   "metadata": {},
   "outputs": [],
   "source": [
    "la[\"date\"] = pd.to_datetime(la[\"L-Datum\"], errors='coerce')\n",
    "la[\"week\"] = pd.to_datetime(la[\"L-Datum\"], errors='coerce').dt.isocalendar()[\"week\"]\n",
    "la[\"month\"] = pd.to_datetime(la[\"L-Datum\"], errors='coerce').dt.month"
   ]
  },
  {
   "cell_type": "code",
   "execution_count": 20,
   "id": "9d42b053",
   "metadata": {},
   "outputs": [],
   "source": [
    "lz[\"date\"] = pd.to_datetime(lz[\"L-Datum\"], errors='coerce')\n",
    "lz[\"week\"] = pd.to_datetime(lz[\"L-Datum\"], errors='coerce').dt.isocalendar()[\"week\"]\n",
    "lz[\"month\"] = pd.to_datetime(lz[\"L-Datum\"], errors='coerce').dt.month"
   ]
  },
  {
   "cell_type": "code",
   "execution_count": 21,
   "id": "10ac9893",
   "metadata": {},
   "outputs": [
    {
     "data": {
      "text/html": [
       "<div>\n",
       "<style scoped>\n",
       "    .dataframe tbody tr th:only-of-type {\n",
       "        vertical-align: middle;\n",
       "    }\n",
       "\n",
       "    .dataframe tbody tr th {\n",
       "        vertical-align: top;\n",
       "    }\n",
       "\n",
       "    .dataframe thead th {\n",
       "        text-align: right;\n",
       "    }\n",
       "</style>\n",
       "<table border=\"1\" class=\"dataframe\">\n",
       "  <thead>\n",
       "    <tr style=\"text-align: right;\">\n",
       "      <th></th>\n",
       "      <th>Sorte</th>\n",
       "      <th>date</th>\n",
       "      <th>week</th>\n",
       "      <th>month</th>\n",
       "      <th>enter</th>\n",
       "      <th>pred</th>\n",
       "    </tr>\n",
       "  </thead>\n",
       "  <tbody>\n",
       "    <tr>\n",
       "      <th>4070</th>\n",
       "      <td>11120.0</td>\n",
       "      <td>2020-02-20</td>\n",
       "      <td>8</td>\n",
       "      <td>2.0</td>\n",
       "      <td>1</td>\n",
       "      <td>0</td>\n",
       "    </tr>\n",
       "  </tbody>\n",
       "</table>\n",
       "</div>"
      ],
      "text/plain": [
       "        Sorte       date  week  month  enter  pred\n",
       "4070  11120.0 2020-02-20     8    2.0      1     0"
      ]
     },
     "execution_count": 21,
     "metadata": {},
     "output_type": "execute_result"
    }
   ],
   "source": [
    "lz[[\"Sorte\", \"date\", \"week\", \"month\", \"enter\", \"pred\"]].sample()"
   ]
  },
  {
   "cell_type": "code",
   "execution_count": 22,
   "id": "a66f8bc6",
   "metadata": {},
   "outputs": [
    {
     "name": "stdout",
     "output_type": "stream",
     "text": [
      "(9483, 25)\n",
      "(2076, 25)\n",
      "(11559, 25)\n",
      "(18157, 44)\n"
     ]
    }
   ],
   "source": [
    "print(lz.shape)\n",
    "print(la.shape)\n",
    "df = lz.append(la)\n",
    "print(df.shape)\n",
    "df = df.append(transport)\n",
    "print(df.shape)"
   ]
  },
  {
   "cell_type": "code",
   "execution_count": 23,
   "id": "b522935b",
   "metadata": {},
   "outputs": [],
   "source": [
    "df = df[[\"Sorte\", \"Menge\", \"date\", \"week\", \"month\", \"enter\", \"pred\"]]"
   ]
  },
  {
   "cell_type": "markdown",
   "id": "695ceed3",
   "metadata": {},
   "source": [
    "Prediction"
   ]
  },
  {
   "cell_type": "code",
   "execution_count": 24,
   "id": "c2cbdd35",
   "metadata": {},
   "outputs": [],
   "source": [
    "max_date = max(df.date)\n",
    "n_days = (max(df.date) - min(df.date)).days"
   ]
  },
  {
   "cell_type": "code",
   "execution_count": 25,
   "id": "f11232a9",
   "metadata": {},
   "outputs": [],
   "source": [
    "horizon = 30\n",
    "for enter in [0, 1]:\n",
    "    for s in df.Sorte.unique():\n",
    "        total = df.loc[(df[\"Sorte\"] == s) & (df[\"enter\"] == enter), \"Menge\"].sum()\n",
    "        mean = total / int(n_days)\n",
    "        pred = pd.DataFrame([max_date + datetime.timedelta(days=i) for i in  range(1, horizon)], columns={\"date\"})\n",
    "        pred[\"Menge\"] = [mean  for i in  range(1, horizon)]\n",
    "        pred[\"Sorte\"] = s\n",
    "        pred[\"pred\"] = 1\n",
    "        pred[\"enter\"] = enter\n",
    "        pred[\"date\"] = pd.to_datetime(pred[\"date\"], errors='coerce')\n",
    "        pred[\"week\"] = pd.to_datetime(pred[\"date\"], errors='coerce').dt.isocalendar()[\"week\"]\n",
    "        pred[\"month\"] = pd.to_datetime(pred[\"date\"], errors='coerce').dt.month\n",
    "        df = df.append(pred)"
   ]
  },
  {
   "cell_type": "code",
   "execution_count": 26,
   "id": "fa209cd5",
   "metadata": {},
   "outputs": [],
   "source": [
    "for s in df.Sorte.unique():\n",
    "    if not np.isnan(s):\n",
    "        for period in [\"date\", \"week\", \"month\"]:\n",
    "            temp = df.loc[df[\"Sorte\"] == s, [\"Menge\", period, \"enter\", \"pred\"]].groupby([period, \"enter\", \"pred\"]).sum()\n",
    "            temp.reset_index(inplace=True)\n",
    "            path = os.path.join(r'C:\\\\Users\\\\Swiss SDI\\\\OneDrive\\\\Bureau\\\\hackathon\\\\yb_hack\\\\data\\\\', 'output', f'{int(s)}_{period}.csv')\n",
    "            temp.to_csv(path)"
   ]
  },
  {
   "cell_type": "code",
   "execution_count": 27,
   "id": "de9f756a",
   "metadata": {},
   "outputs": [],
   "source": [
    "incoming = df.loc[(df[\"pred\"] == 0) & (df[\"enter\"] == 1), [\"Sorte\", \"Menge\"]].groupby([\"Sorte\"]).sum()\n",
    "outcoming = df.loc[(df[\"pred\"] == 0) & (df[\"enter\"] == 0), [\"Sorte\", \"Menge\"]].groupby([\"Sorte\"]).sum()\n",
    "merge = incoming.merge(outcoming, how=\"outer\", on=\"Sorte\", suffixes=('_incoming', '_outcoming'))\n",
    "merge.reset_index(inplace=True)"
   ]
  },
  {
   "cell_type": "code",
   "execution_count": 28,
   "id": "6f3758b7",
   "metadata": {},
   "outputs": [],
   "source": [
    "merge = merge.fillna(0)\n",
    "merge = merge.merge(sorten[[\"Sorte\", \"Bezeichnung\"]], how=\"left\", on=\"Sorte\")\n",
    "merge[\"diff\"] = merge[\"Menge_incoming\"] - merge[\"Menge_outcoming\"]\n",
    "merge[\"signal\"] = merge[\"diff\"].apply(lambda x: np.sign(x))\n",
    "merge[\"Sorte\"] = merge[\"Sorte\"].apply(lambda x: int(x))"
   ]
  },
  {
   "cell_type": "code",
   "execution_count": 29,
   "id": "b0dee403",
   "metadata": {},
   "outputs": [
    {
     "data": {
      "text/html": [
       "<div>\n",
       "<style scoped>\n",
       "    .dataframe tbody tr th:only-of-type {\n",
       "        vertical-align: middle;\n",
       "    }\n",
       "\n",
       "    .dataframe tbody tr th {\n",
       "        vertical-align: top;\n",
       "    }\n",
       "\n",
       "    .dataframe thead th {\n",
       "        text-align: right;\n",
       "    }\n",
       "</style>\n",
       "<table border=\"1\" class=\"dataframe\">\n",
       "  <thead>\n",
       "    <tr style=\"text-align: right;\">\n",
       "      <th></th>\n",
       "      <th>Sorte</th>\n",
       "      <th>Menge</th>\n",
       "      <th>date</th>\n",
       "      <th>week</th>\n",
       "      <th>month</th>\n",
       "      <th>enter</th>\n",
       "      <th>pred</th>\n",
       "    </tr>\n",
       "  </thead>\n",
       "  <tbody>\n",
       "    <tr>\n",
       "      <th>3</th>\n",
       "      <td>10000.0</td>\n",
       "      <td>1080.00000</td>\n",
       "      <td>2020-01-02</td>\n",
       "      <td>1</td>\n",
       "      <td>1.0</td>\n",
       "      <td>1.0</td>\n",
       "      <td>0</td>\n",
       "    </tr>\n",
       "    <tr>\n",
       "      <th>4</th>\n",
       "      <td>10000.0</td>\n",
       "      <td>1130.00000</td>\n",
       "      <td>2020-01-02</td>\n",
       "      <td>1</td>\n",
       "      <td>1.0</td>\n",
       "      <td>1.0</td>\n",
       "      <td>0</td>\n",
       "    </tr>\n",
       "    <tr>\n",
       "      <th>5</th>\n",
       "      <td>10000.0</td>\n",
       "      <td>10810.00000</td>\n",
       "      <td>2020-01-02</td>\n",
       "      <td>1</td>\n",
       "      <td>1.0</td>\n",
       "      <td>1.0</td>\n",
       "      <td>0</td>\n",
       "    </tr>\n",
       "    <tr>\n",
       "      <th>6</th>\n",
       "      <td>10000.0</td>\n",
       "      <td>1810.00000</td>\n",
       "      <td>2020-01-02</td>\n",
       "      <td>1</td>\n",
       "      <td>1.0</td>\n",
       "      <td>1.0</td>\n",
       "      <td>0</td>\n",
       "    </tr>\n",
       "    <tr>\n",
       "      <th>7</th>\n",
       "      <td>10000.0</td>\n",
       "      <td>2910.00000</td>\n",
       "      <td>2020-01-02</td>\n",
       "      <td>1</td>\n",
       "      <td>1.0</td>\n",
       "      <td>1.0</td>\n",
       "      <td>0</td>\n",
       "    </tr>\n",
       "    <tr>\n",
       "      <th>...</th>\n",
       "      <td>...</td>\n",
       "      <td>...</td>\n",
       "      <td>...</td>\n",
       "      <td>...</td>\n",
       "      <td>...</td>\n",
       "      <td>...</td>\n",
       "      <td>...</td>\n",
       "    </tr>\n",
       "    <tr>\n",
       "      <th>24</th>\n",
       "      <td>54016.0</td>\n",
       "      <td>6.38961</td>\n",
       "      <td>2020-06-29</td>\n",
       "      <td>27</td>\n",
       "      <td>6.0</td>\n",
       "      <td>1.0</td>\n",
       "      <td>1</td>\n",
       "    </tr>\n",
       "    <tr>\n",
       "      <th>25</th>\n",
       "      <td>54016.0</td>\n",
       "      <td>6.38961</td>\n",
       "      <td>2020-06-30</td>\n",
       "      <td>27</td>\n",
       "      <td>6.0</td>\n",
       "      <td>1.0</td>\n",
       "      <td>1</td>\n",
       "    </tr>\n",
       "    <tr>\n",
       "      <th>26</th>\n",
       "      <td>54016.0</td>\n",
       "      <td>6.38961</td>\n",
       "      <td>2020-07-01</td>\n",
       "      <td>27</td>\n",
       "      <td>7.0</td>\n",
       "      <td>1.0</td>\n",
       "      <td>1</td>\n",
       "    </tr>\n",
       "    <tr>\n",
       "      <th>27</th>\n",
       "      <td>54016.0</td>\n",
       "      <td>6.38961</td>\n",
       "      <td>2020-07-02</td>\n",
       "      <td>27</td>\n",
       "      <td>7.0</td>\n",
       "      <td>1.0</td>\n",
       "      <td>1</td>\n",
       "    </tr>\n",
       "    <tr>\n",
       "      <th>28</th>\n",
       "      <td>54016.0</td>\n",
       "      <td>6.38961</td>\n",
       "      <td>2020-07-03</td>\n",
       "      <td>27</td>\n",
       "      <td>7.0</td>\n",
       "      <td>1.0</td>\n",
       "      <td>1</td>\n",
       "    </tr>\n",
       "  </tbody>\n",
       "</table>\n",
       "<p>27959 rows × 7 columns</p>\n",
       "</div>"
      ],
      "text/plain": [
       "      Sorte        Menge       date  week  month  enter  pred\n",
       "3   10000.0   1080.00000 2020-01-02     1    1.0    1.0     0\n",
       "4   10000.0   1130.00000 2020-01-02     1    1.0    1.0     0\n",
       "5   10000.0  10810.00000 2020-01-02     1    1.0    1.0     0\n",
       "6   10000.0   1810.00000 2020-01-02     1    1.0    1.0     0\n",
       "7   10000.0   2910.00000 2020-01-02     1    1.0    1.0     0\n",
       "..      ...          ...        ...   ...    ...    ...   ...\n",
       "24  54016.0      6.38961 2020-06-29    27    6.0    1.0     1\n",
       "25  54016.0      6.38961 2020-06-30    27    6.0    1.0     1\n",
       "26  54016.0      6.38961 2020-07-01    27    7.0    1.0     1\n",
       "27  54016.0      6.38961 2020-07-02    27    7.0    1.0     1\n",
       "28  54016.0      6.38961 2020-07-03    27    7.0    1.0     1\n",
       "\n",
       "[27959 rows x 7 columns]"
      ]
     },
     "execution_count": 29,
     "metadata": {},
     "output_type": "execute_result"
    }
   ],
   "source": [
    "df"
   ]
  },
  {
   "cell_type": "code",
   "execution_count": 30,
   "id": "57bee6ee",
   "metadata": {},
   "outputs": [],
   "source": [
    "path = os.path.join(r'C:\\\\Users\\\\Swiss SDI\\\\OneDrive\\\\Bureau\\\\hackathon\\\\yb_hack\\\\data\\\\', f'categories.csv')\n",
    "merge.to_csv(path)"
   ]
  },
  {
   "cell_type": "code",
   "execution_count": 31,
   "id": "a6b25d35",
   "metadata": {},
   "outputs": [
    {
     "data": {
      "text/plain": [
       "array([10000., 10005., 10010., 10060., 10082., 11000., 11001., 12000.,\n",
       "       10031., 10040., 10070., 12005., 11020., 13112., 11110., 10011.,\n",
       "       10081., 11120., 16000., 14000., 10030., 10120., 11122., 11130.,\n",
       "       15000., 11002., 10110., 11165., 18051., 15020., 10090., 10199.,\n",
       "       11140., 12011., 11121., 10050., 11050., 11167., 11154., 10100.,\n",
       "       12001., 10012., 91001., 91002., 11163., 11021., 13012., 16010.,\n",
       "       12020., 10053., 11152., 11153.,    nan, 18050., 18033., 18052.,\n",
       "       18023., 18025., 11100., 18034., 11150., 12004., 18031., 18032.,\n",
       "       18013., 11112., 96081., 90521., 70133., 99908., 90518., 90505.,\n",
       "       96044., 90504., 52701., 90503., 90574., 52601., 90525., 25003.,\n",
       "       62006., 90501., 90535., 24010., 25001., 24016., 52801., 90603.,\n",
       "       20102., 20100., 20101., 24019., 90536., 90609., 90533., 52704.,\n",
       "       90507., 54004., 90519., 29099., 90528., 61222., 96045., 90506.,\n",
       "       90541., 90539., 90540., 52705., 59016., 24017., 96003., 96205.,\n",
       "       90529., 20021., 90524., 61999., 90512., 90508., 90543., 20022.,\n",
       "       92065., 96103., 92071., 90542., 90530., 90610., 90567., 92072.,\n",
       "       92066., 92070., 92060., 92068., 92059., 92061., 92087., 92067.,\n",
       "       96106., 92086., 92062., 92085., 92088., 90604., 90615., 20019.,\n",
       "       61221., 90537., 92074., 70001., 96100., 92073., 70004., 59001.,\n",
       "       20039., 96054., 24013., 24015., 20107., 20018., 24027., 20014.,\n",
       "       20012., 30051., 30011., 30050., 30008., 20040., 54002., 54012.,\n",
       "       54016.])"
      ]
     },
     "execution_count": 31,
     "metadata": {},
     "output_type": "execute_result"
    }
   ],
   "source": [
    "df.Sorte.unique()"
   ]
  },
  {
   "cell_type": "code",
   "execution_count": 32,
   "id": "a350e321",
   "metadata": {},
   "outputs": [
    {
     "data": {
      "text/plain": [
       "['date', 'week', 'month']"
      ]
     },
     "execution_count": 32,
     "metadata": {},
     "output_type": "execute_result"
    }
   ],
   "source": [
    "[\"date\", \"week\", \"month\"]"
   ]
  },
  {
   "cell_type": "code",
   "execution_count": 40,
   "id": "4dbca2aa",
   "metadata": {},
   "outputs": [
    {
     "data": {
      "application/vnd.plotly.v1+json": {
       "config": {
        "plotlyServerURL": "https://plot.ly"
       },
       "data": [
        {
         "mode": "lines",
         "name": "i",
         "opacity": 0.75,
         "type": "scatter",
         "x": [
          "2020-01-02T00:00:00",
          "2020-01-03T00:00:00",
          "2020-01-06T00:00:00",
          "2020-01-07T00:00:00",
          "2020-01-08T00:00:00",
          "2020-01-09T00:00:00",
          "2020-01-10T00:00:00",
          "2020-01-13T00:00:00",
          "2020-01-14T00:00:00",
          "2020-01-15T00:00:00",
          "2020-01-16T00:00:00",
          "2020-01-17T00:00:00",
          "2020-01-20T00:00:00",
          "2020-01-21T00:00:00",
          "2020-01-22T00:00:00",
          "2020-01-24T00:00:00",
          "2020-01-27T00:00:00",
          "2020-01-28T00:00:00",
          "2020-01-29T00:00:00",
          "2020-01-30T00:00:00",
          "2020-01-31T00:00:00",
          "2020-02-04T00:00:00",
          "2020-02-05T00:00:00",
          "2020-02-06T00:00:00",
          "2020-02-07T00:00:00",
          "2020-02-10T00:00:00",
          "2020-02-11T00:00:00",
          "2020-02-12T00:00:00",
          "2020-02-13T00:00:00",
          "2020-02-14T00:00:00",
          "2020-02-17T00:00:00",
          "2020-02-20T00:00:00",
          "2020-02-21T00:00:00",
          "2020-02-24T00:00:00",
          "2020-02-25T00:00:00",
          "2020-02-26T00:00:00",
          "2020-02-28T00:00:00",
          "2020-03-02T00:00:00",
          "2020-03-03T00:00:00",
          "2020-03-04T00:00:00",
          "2020-03-05T00:00:00",
          "2020-03-06T00:00:00",
          "2020-03-09T00:00:00",
          "2020-03-10T00:00:00",
          "2020-03-11T00:00:00",
          "2020-03-12T00:00:00",
          "2020-03-13T00:00:00",
          "2020-03-16T00:00:00",
          "2020-03-17T00:00:00",
          "2020-03-18T00:00:00",
          "2020-03-19T00:00:00",
          "2020-03-20T00:00:00",
          "2020-03-24T00:00:00",
          "2020-03-25T00:00:00",
          "2020-03-26T00:00:00",
          "2020-03-30T00:00:00",
          "2020-03-31T00:00:00",
          "2020-04-01T00:00:00",
          "2020-04-02T00:00:00",
          "2020-04-03T00:00:00",
          "2020-04-06T00:00:00",
          "2020-04-07T00:00:00",
          "2020-04-08T00:00:00",
          "2020-04-14T00:00:00",
          "2020-04-15T00:00:00",
          "2020-04-16T00:00:00",
          "2020-04-17T00:00:00",
          "2020-04-20T00:00:00",
          "2020-04-21T00:00:00",
          "2020-04-22T00:00:00",
          "2020-04-23T00:00:00",
          "2020-04-24T00:00:00",
          "2020-04-27T00:00:00",
          "2020-04-28T00:00:00",
          "2020-04-29T00:00:00",
          "2020-04-30T00:00:00",
          "2020-05-04T00:00:00",
          "2020-05-05T00:00:00",
          "2020-05-06T00:00:00",
          "2020-05-07T00:00:00",
          "2020-05-08T00:00:00",
          "2020-05-11T00:00:00",
          "2020-05-12T00:00:00",
          "2020-05-13T00:00:00",
          "2020-05-14T00:00:00",
          "2020-05-15T00:00:00",
          "2020-05-18T00:00:00",
          "2020-05-19T00:00:00",
          "2020-05-20T00:00:00",
          "2020-05-25T00:00:00",
          "2020-05-26T00:00:00",
          "2020-05-28T00:00:00",
          "2020-05-29T00:00:00",
          "2020-06-05T00:00:00",
          "2020-06-06T00:00:00",
          "2020-06-07T00:00:00",
          "2020-06-08T00:00:00",
          "2020-06-09T00:00:00",
          "2020-06-10T00:00:00",
          "2020-06-11T00:00:00",
          "2020-06-12T00:00:00",
          "2020-06-13T00:00:00",
          "2020-06-14T00:00:00",
          "2020-06-15T00:00:00",
          "2020-06-16T00:00:00",
          "2020-06-17T00:00:00",
          "2020-06-18T00:00:00",
          "2020-06-19T00:00:00",
          "2020-06-20T00:00:00",
          "2020-06-21T00:00:00",
          "2020-06-22T00:00:00",
          "2020-06-23T00:00:00",
          "2020-06-24T00:00:00",
          "2020-06-25T00:00:00",
          "2020-06-26T00:00:00",
          "2020-06-27T00:00:00",
          "2020-06-28T00:00:00",
          "2020-06-29T00:00:00",
          "2020-06-30T00:00:00",
          "2020-07-01T00:00:00",
          "2020-07-02T00:00:00",
          "2020-07-03T00:00:00"
         ],
         "y": [
          350,
          1000,
          140,
          2250,
          1000,
          6480,
          900,
          5100,
          2200,
          1000,
          8800,
          1300,
          5300,
          1100,
          11360,
          1550,
          6700,
          1000,
          5380,
          200,
          1180,
          100,
          1200,
          4590,
          100,
          2753.5,
          1500,
          4430,
          920,
          6260,
          150,
          1160,
          900,
          300,
          2800,
          2077,
          200,
          2592,
          2030,
          6010,
          2000,
          200,
          11902,
          950,
          250,
          300,
          140,
          200,
          4380,
          680,
          1350,
          650,
          400,
          1260,
          3200,
          300,
          2100,
          480,
          200,
          240,
          2300,
          7870,
          300,
          100,
          600,
          3700,
          900,
          550,
          1610,
          1300,
          2000,
          1080,
          5230,
          350,
          550,
          600,
          1250,
          14607,
          1330,
          350,
          200,
          2200,
          100,
          50,
          4750,
          100,
          300,
          2400,
          10390,
          800,
          1300,
          1890,
          300,
          1343.5162337662337,
          1343.5162337662337,
          1343.5162337662337,
          1343.5162337662337,
          1343.5162337662337,
          1343.5162337662337,
          1343.5162337662337,
          1343.5162337662337,
          1343.5162337662337,
          1343.5162337662337,
          1343.5162337662337,
          1343.5162337662337,
          1343.5162337662337,
          1343.5162337662337,
          1343.5162337662337,
          1343.5162337662337,
          1343.5162337662337,
          1343.5162337662337,
          1343.5162337662337,
          1343.5162337662337,
          1343.5162337662337,
          1343.5162337662337,
          1343.5162337662337,
          1343.5162337662337,
          1343.5162337662337,
          1343.5162337662337,
          1343.5162337662337,
          1343.5162337662337,
          1343.5162337662337
         ]
        }
       ],
       "layout": {
        "template": {
         "data": {
          "bar": [
           {
            "error_x": {
             "color": "#2a3f5f"
            },
            "error_y": {
             "color": "#2a3f5f"
            },
            "marker": {
             "line": {
              "color": "#E5ECF6",
              "width": 0.5
             }
            },
            "type": "bar"
           }
          ],
          "barpolar": [
           {
            "marker": {
             "line": {
              "color": "#E5ECF6",
              "width": 0.5
             }
            },
            "type": "barpolar"
           }
          ],
          "carpet": [
           {
            "aaxis": {
             "endlinecolor": "#2a3f5f",
             "gridcolor": "white",
             "linecolor": "white",
             "minorgridcolor": "white",
             "startlinecolor": "#2a3f5f"
            },
            "baxis": {
             "endlinecolor": "#2a3f5f",
             "gridcolor": "white",
             "linecolor": "white",
             "minorgridcolor": "white",
             "startlinecolor": "#2a3f5f"
            },
            "type": "carpet"
           }
          ],
          "choropleth": [
           {
            "colorbar": {
             "outlinewidth": 0,
             "ticks": ""
            },
            "type": "choropleth"
           }
          ],
          "contour": [
           {
            "colorbar": {
             "outlinewidth": 0,
             "ticks": ""
            },
            "colorscale": [
             [
              0,
              "#0d0887"
             ],
             [
              0.1111111111111111,
              "#46039f"
             ],
             [
              0.2222222222222222,
              "#7201a8"
             ],
             [
              0.3333333333333333,
              "#9c179e"
             ],
             [
              0.4444444444444444,
              "#bd3786"
             ],
             [
              0.5555555555555556,
              "#d8576b"
             ],
             [
              0.6666666666666666,
              "#ed7953"
             ],
             [
              0.7777777777777778,
              "#fb9f3a"
             ],
             [
              0.8888888888888888,
              "#fdca26"
             ],
             [
              1,
              "#f0f921"
             ]
            ],
            "type": "contour"
           }
          ],
          "contourcarpet": [
           {
            "colorbar": {
             "outlinewidth": 0,
             "ticks": ""
            },
            "type": "contourcarpet"
           }
          ],
          "heatmap": [
           {
            "colorbar": {
             "outlinewidth": 0,
             "ticks": ""
            },
            "colorscale": [
             [
              0,
              "#0d0887"
             ],
             [
              0.1111111111111111,
              "#46039f"
             ],
             [
              0.2222222222222222,
              "#7201a8"
             ],
             [
              0.3333333333333333,
              "#9c179e"
             ],
             [
              0.4444444444444444,
              "#bd3786"
             ],
             [
              0.5555555555555556,
              "#d8576b"
             ],
             [
              0.6666666666666666,
              "#ed7953"
             ],
             [
              0.7777777777777778,
              "#fb9f3a"
             ],
             [
              0.8888888888888888,
              "#fdca26"
             ],
             [
              1,
              "#f0f921"
             ]
            ],
            "type": "heatmap"
           }
          ],
          "heatmapgl": [
           {
            "colorbar": {
             "outlinewidth": 0,
             "ticks": ""
            },
            "colorscale": [
             [
              0,
              "#0d0887"
             ],
             [
              0.1111111111111111,
              "#46039f"
             ],
             [
              0.2222222222222222,
              "#7201a8"
             ],
             [
              0.3333333333333333,
              "#9c179e"
             ],
             [
              0.4444444444444444,
              "#bd3786"
             ],
             [
              0.5555555555555556,
              "#d8576b"
             ],
             [
              0.6666666666666666,
              "#ed7953"
             ],
             [
              0.7777777777777778,
              "#fb9f3a"
             ],
             [
              0.8888888888888888,
              "#fdca26"
             ],
             [
              1,
              "#f0f921"
             ]
            ],
            "type": "heatmapgl"
           }
          ],
          "histogram": [
           {
            "marker": {
             "colorbar": {
              "outlinewidth": 0,
              "ticks": ""
             }
            },
            "type": "histogram"
           }
          ],
          "histogram2d": [
           {
            "colorbar": {
             "outlinewidth": 0,
             "ticks": ""
            },
            "colorscale": [
             [
              0,
              "#0d0887"
             ],
             [
              0.1111111111111111,
              "#46039f"
             ],
             [
              0.2222222222222222,
              "#7201a8"
             ],
             [
              0.3333333333333333,
              "#9c179e"
             ],
             [
              0.4444444444444444,
              "#bd3786"
             ],
             [
              0.5555555555555556,
              "#d8576b"
             ],
             [
              0.6666666666666666,
              "#ed7953"
             ],
             [
              0.7777777777777778,
              "#fb9f3a"
             ],
             [
              0.8888888888888888,
              "#fdca26"
             ],
             [
              1,
              "#f0f921"
             ]
            ],
            "type": "histogram2d"
           }
          ],
          "histogram2dcontour": [
           {
            "colorbar": {
             "outlinewidth": 0,
             "ticks": ""
            },
            "colorscale": [
             [
              0,
              "#0d0887"
             ],
             [
              0.1111111111111111,
              "#46039f"
             ],
             [
              0.2222222222222222,
              "#7201a8"
             ],
             [
              0.3333333333333333,
              "#9c179e"
             ],
             [
              0.4444444444444444,
              "#bd3786"
             ],
             [
              0.5555555555555556,
              "#d8576b"
             ],
             [
              0.6666666666666666,
              "#ed7953"
             ],
             [
              0.7777777777777778,
              "#fb9f3a"
             ],
             [
              0.8888888888888888,
              "#fdca26"
             ],
             [
              1,
              "#f0f921"
             ]
            ],
            "type": "histogram2dcontour"
           }
          ],
          "mesh3d": [
           {
            "colorbar": {
             "outlinewidth": 0,
             "ticks": ""
            },
            "type": "mesh3d"
           }
          ],
          "parcoords": [
           {
            "line": {
             "colorbar": {
              "outlinewidth": 0,
              "ticks": ""
             }
            },
            "type": "parcoords"
           }
          ],
          "pie": [
           {
            "automargin": true,
            "type": "pie"
           }
          ],
          "scatter": [
           {
            "marker": {
             "colorbar": {
              "outlinewidth": 0,
              "ticks": ""
             }
            },
            "type": "scatter"
           }
          ],
          "scatter3d": [
           {
            "line": {
             "colorbar": {
              "outlinewidth": 0,
              "ticks": ""
             }
            },
            "marker": {
             "colorbar": {
              "outlinewidth": 0,
              "ticks": ""
             }
            },
            "type": "scatter3d"
           }
          ],
          "scattercarpet": [
           {
            "marker": {
             "colorbar": {
              "outlinewidth": 0,
              "ticks": ""
             }
            },
            "type": "scattercarpet"
           }
          ],
          "scattergeo": [
           {
            "marker": {
             "colorbar": {
              "outlinewidth": 0,
              "ticks": ""
             }
            },
            "type": "scattergeo"
           }
          ],
          "scattergl": [
           {
            "marker": {
             "colorbar": {
              "outlinewidth": 0,
              "ticks": ""
             }
            },
            "type": "scattergl"
           }
          ],
          "scattermapbox": [
           {
            "marker": {
             "colorbar": {
              "outlinewidth": 0,
              "ticks": ""
             }
            },
            "type": "scattermapbox"
           }
          ],
          "scatterpolar": [
           {
            "marker": {
             "colorbar": {
              "outlinewidth": 0,
              "ticks": ""
             }
            },
            "type": "scatterpolar"
           }
          ],
          "scatterpolargl": [
           {
            "marker": {
             "colorbar": {
              "outlinewidth": 0,
              "ticks": ""
             }
            },
            "type": "scatterpolargl"
           }
          ],
          "scatterternary": [
           {
            "marker": {
             "colorbar": {
              "outlinewidth": 0,
              "ticks": ""
             }
            },
            "type": "scatterternary"
           }
          ],
          "surface": [
           {
            "colorbar": {
             "outlinewidth": 0,
             "ticks": ""
            },
            "colorscale": [
             [
              0,
              "#0d0887"
             ],
             [
              0.1111111111111111,
              "#46039f"
             ],
             [
              0.2222222222222222,
              "#7201a8"
             ],
             [
              0.3333333333333333,
              "#9c179e"
             ],
             [
              0.4444444444444444,
              "#bd3786"
             ],
             [
              0.5555555555555556,
              "#d8576b"
             ],
             [
              0.6666666666666666,
              "#ed7953"
             ],
             [
              0.7777777777777778,
              "#fb9f3a"
             ],
             [
              0.8888888888888888,
              "#fdca26"
             ],
             [
              1,
              "#f0f921"
             ]
            ],
            "type": "surface"
           }
          ],
          "table": [
           {
            "cells": {
             "fill": {
              "color": "#EBF0F8"
             },
             "line": {
              "color": "white"
             }
            },
            "header": {
             "fill": {
              "color": "#C8D4E3"
             },
             "line": {
              "color": "white"
             }
            },
            "type": "table"
           }
          ]
         },
         "layout": {
          "annotationdefaults": {
           "arrowcolor": "#2a3f5f",
           "arrowhead": 0,
           "arrowwidth": 1
          },
          "autotypenumbers": "strict",
          "coloraxis": {
           "colorbar": {
            "outlinewidth": 0,
            "ticks": ""
           }
          },
          "colorscale": {
           "diverging": [
            [
             0,
             "#8e0152"
            ],
            [
             0.1,
             "#c51b7d"
            ],
            [
             0.2,
             "#de77ae"
            ],
            [
             0.3,
             "#f1b6da"
            ],
            [
             0.4,
             "#fde0ef"
            ],
            [
             0.5,
             "#f7f7f7"
            ],
            [
             0.6,
             "#e6f5d0"
            ],
            [
             0.7,
             "#b8e186"
            ],
            [
             0.8,
             "#7fbc41"
            ],
            [
             0.9,
             "#4d9221"
            ],
            [
             1,
             "#276419"
            ]
           ],
           "sequential": [
            [
             0,
             "#0d0887"
            ],
            [
             0.1111111111111111,
             "#46039f"
            ],
            [
             0.2222222222222222,
             "#7201a8"
            ],
            [
             0.3333333333333333,
             "#9c179e"
            ],
            [
             0.4444444444444444,
             "#bd3786"
            ],
            [
             0.5555555555555556,
             "#d8576b"
            ],
            [
             0.6666666666666666,
             "#ed7953"
            ],
            [
             0.7777777777777778,
             "#fb9f3a"
            ],
            [
             0.8888888888888888,
             "#fdca26"
            ],
            [
             1,
             "#f0f921"
            ]
           ],
           "sequentialminus": [
            [
             0,
             "#0d0887"
            ],
            [
             0.1111111111111111,
             "#46039f"
            ],
            [
             0.2222222222222222,
             "#7201a8"
            ],
            [
             0.3333333333333333,
             "#9c179e"
            ],
            [
             0.4444444444444444,
             "#bd3786"
            ],
            [
             0.5555555555555556,
             "#d8576b"
            ],
            [
             0.6666666666666666,
             "#ed7953"
            ],
            [
             0.7777777777777778,
             "#fb9f3a"
            ],
            [
             0.8888888888888888,
             "#fdca26"
            ],
            [
             1,
             "#f0f921"
            ]
           ]
          },
          "colorway": [
           "#636efa",
           "#EF553B",
           "#00cc96",
           "#ab63fa",
           "#FFA15A",
           "#19d3f3",
           "#FF6692",
           "#B6E880",
           "#FF97FF",
           "#FECB52"
          ],
          "font": {
           "color": "#2a3f5f"
          },
          "geo": {
           "bgcolor": "white",
           "lakecolor": "white",
           "landcolor": "#E5ECF6",
           "showlakes": true,
           "showland": true,
           "subunitcolor": "white"
          },
          "hoverlabel": {
           "align": "left"
          },
          "hovermode": "closest",
          "mapbox": {
           "style": "light"
          },
          "paper_bgcolor": "white",
          "plot_bgcolor": "#E5ECF6",
          "polar": {
           "angularaxis": {
            "gridcolor": "white",
            "linecolor": "white",
            "ticks": ""
           },
           "bgcolor": "#E5ECF6",
           "radialaxis": {
            "gridcolor": "white",
            "linecolor": "white",
            "ticks": ""
           }
          },
          "scene": {
           "xaxis": {
            "backgroundcolor": "#E5ECF6",
            "gridcolor": "white",
            "gridwidth": 2,
            "linecolor": "white",
            "showbackground": true,
            "ticks": "",
            "zerolinecolor": "white"
           },
           "yaxis": {
            "backgroundcolor": "#E5ECF6",
            "gridcolor": "white",
            "gridwidth": 2,
            "linecolor": "white",
            "showbackground": true,
            "ticks": "",
            "zerolinecolor": "white"
           },
           "zaxis": {
            "backgroundcolor": "#E5ECF6",
            "gridcolor": "white",
            "gridwidth": 2,
            "linecolor": "white",
            "showbackground": true,
            "ticks": "",
            "zerolinecolor": "white"
           }
          },
          "shapedefaults": {
           "line": {
            "color": "#2a3f5f"
           }
          },
          "ternary": {
           "aaxis": {
            "gridcolor": "white",
            "linecolor": "white",
            "ticks": ""
           },
           "baxis": {
            "gridcolor": "white",
            "linecolor": "white",
            "ticks": ""
           },
           "bgcolor": "#E5ECF6",
           "caxis": {
            "gridcolor": "white",
            "linecolor": "white",
            "ticks": ""
           }
          },
          "title": {
           "x": 0.05
          },
          "xaxis": {
           "automargin": true,
           "gridcolor": "white",
           "linecolor": "white",
           "ticks": "",
           "title": {
            "standoff": 15
           },
           "zerolinecolor": "white",
           "zerolinewidth": 2
          },
          "yaxis": {
           "automargin": true,
           "gridcolor": "white",
           "linecolor": "white",
           "ticks": "",
           "title": {
            "standoff": 15
           },
           "zerolinecolor": "white",
           "zerolinewidth": 2
          }
         }
        },
        "title": {
         "text": "Title"
        }
       }
      },
      "text/html": [
       "<div>                            <div id=\"e8bc2ba7-b045-4bb3-b2b0-0c3976e09081\" class=\"plotly-graph-div\" style=\"height:525px; width:100%;\"></div>            <script type=\"text/javascript\">                require([\"plotly\"], function(Plotly) {                    window.PLOTLYENV=window.PLOTLYENV || {};                                    if (document.getElementById(\"e8bc2ba7-b045-4bb3-b2b0-0c3976e09081\")) {                    Plotly.newPlot(                        \"e8bc2ba7-b045-4bb3-b2b0-0c3976e09081\",                        [{\"mode\": \"lines\", \"name\": \"i\", \"opacity\": 0.75, \"type\": \"scatter\", \"x\": [\"2020-01-02T00:00:00\", \"2020-01-03T00:00:00\", \"2020-01-06T00:00:00\", \"2020-01-07T00:00:00\", \"2020-01-08T00:00:00\", \"2020-01-09T00:00:00\", \"2020-01-10T00:00:00\", \"2020-01-13T00:00:00\", \"2020-01-14T00:00:00\", \"2020-01-15T00:00:00\", \"2020-01-16T00:00:00\", \"2020-01-17T00:00:00\", \"2020-01-20T00:00:00\", \"2020-01-21T00:00:00\", \"2020-01-22T00:00:00\", \"2020-01-24T00:00:00\", \"2020-01-27T00:00:00\", \"2020-01-28T00:00:00\", \"2020-01-29T00:00:00\", \"2020-01-30T00:00:00\", \"2020-01-31T00:00:00\", \"2020-02-04T00:00:00\", \"2020-02-05T00:00:00\", \"2020-02-06T00:00:00\", \"2020-02-07T00:00:00\", \"2020-02-10T00:00:00\", \"2020-02-11T00:00:00\", \"2020-02-12T00:00:00\", \"2020-02-13T00:00:00\", \"2020-02-14T00:00:00\", \"2020-02-17T00:00:00\", \"2020-02-20T00:00:00\", \"2020-02-21T00:00:00\", \"2020-02-24T00:00:00\", \"2020-02-25T00:00:00\", \"2020-02-26T00:00:00\", \"2020-02-28T00:00:00\", \"2020-03-02T00:00:00\", \"2020-03-03T00:00:00\", \"2020-03-04T00:00:00\", \"2020-03-05T00:00:00\", \"2020-03-06T00:00:00\", \"2020-03-09T00:00:00\", \"2020-03-10T00:00:00\", \"2020-03-11T00:00:00\", \"2020-03-12T00:00:00\", \"2020-03-13T00:00:00\", \"2020-03-16T00:00:00\", \"2020-03-17T00:00:00\", \"2020-03-18T00:00:00\", \"2020-03-19T00:00:00\", \"2020-03-20T00:00:00\", \"2020-03-24T00:00:00\", \"2020-03-25T00:00:00\", \"2020-03-26T00:00:00\", \"2020-03-30T00:00:00\", \"2020-03-31T00:00:00\", \"2020-04-01T00:00:00\", \"2020-04-02T00:00:00\", \"2020-04-03T00:00:00\", \"2020-04-06T00:00:00\", \"2020-04-07T00:00:00\", \"2020-04-08T00:00:00\", \"2020-04-14T00:00:00\", \"2020-04-15T00:00:00\", \"2020-04-16T00:00:00\", \"2020-04-17T00:00:00\", \"2020-04-20T00:00:00\", \"2020-04-21T00:00:00\", \"2020-04-22T00:00:00\", \"2020-04-23T00:00:00\", \"2020-04-24T00:00:00\", \"2020-04-27T00:00:00\", \"2020-04-28T00:00:00\", \"2020-04-29T00:00:00\", \"2020-04-30T00:00:00\", \"2020-05-04T00:00:00\", \"2020-05-05T00:00:00\", \"2020-05-06T00:00:00\", \"2020-05-07T00:00:00\", \"2020-05-08T00:00:00\", \"2020-05-11T00:00:00\", \"2020-05-12T00:00:00\", \"2020-05-13T00:00:00\", \"2020-05-14T00:00:00\", \"2020-05-15T00:00:00\", \"2020-05-18T00:00:00\", \"2020-05-19T00:00:00\", \"2020-05-20T00:00:00\", \"2020-05-25T00:00:00\", \"2020-05-26T00:00:00\", \"2020-05-28T00:00:00\", \"2020-05-29T00:00:00\", \"2020-06-05T00:00:00\", \"2020-06-06T00:00:00\", \"2020-06-07T00:00:00\", \"2020-06-08T00:00:00\", \"2020-06-09T00:00:00\", \"2020-06-10T00:00:00\", \"2020-06-11T00:00:00\", \"2020-06-12T00:00:00\", \"2020-06-13T00:00:00\", \"2020-06-14T00:00:00\", \"2020-06-15T00:00:00\", \"2020-06-16T00:00:00\", \"2020-06-17T00:00:00\", \"2020-06-18T00:00:00\", \"2020-06-19T00:00:00\", \"2020-06-20T00:00:00\", \"2020-06-21T00:00:00\", \"2020-06-22T00:00:00\", \"2020-06-23T00:00:00\", \"2020-06-24T00:00:00\", \"2020-06-25T00:00:00\", \"2020-06-26T00:00:00\", \"2020-06-27T00:00:00\", \"2020-06-28T00:00:00\", \"2020-06-29T00:00:00\", \"2020-06-30T00:00:00\", \"2020-07-01T00:00:00\", \"2020-07-02T00:00:00\", \"2020-07-03T00:00:00\"], \"y\": [350.0, 1000.0, 140.0, 2250.0, 1000.0, 6480.0, 900.0, 5100.0, 2200.0, 1000.0, 8800.0, 1300.0, 5300.0, 1100.0, 11360.0, 1550.0, 6700.0, 1000.0, 5380.0, 200.0, 1180.0, 100.0, 1200.0, 4590.0, 100.0, 2753.5, 1500.0, 4430.0, 920.0, 6260.0, 150.0, 1160.0, 900.0, 300.0, 2800.0, 2077.0, 200.0, 2592.0, 2030.0, 6010.0, 2000.0, 200.0, 11902.0, 950.0, 250.0, 300.0, 140.0, 200.0, 4380.0, 680.0, 1350.0, 650.0, 400.0, 1260.0, 3200.0, 300.0, 2100.0, 480.0, 200.0, 240.0, 2300.0, 7870.0, 300.0, 100.0, 600.0, 3700.0, 900.0, 550.0, 1610.0, 1300.0, 2000.0, 1080.0, 5230.0, 350.0, 550.0, 600.0, 1250.0, 14607.0, 1330.0, 350.0, 200.0, 2200.0, 100.0, 50.0, 4750.0, 100.0, 300.0, 2400.0, 10390.0, 800.0, 1300.0, 1890.0, 300.0, 1343.5162337662337, 1343.5162337662337, 1343.5162337662337, 1343.5162337662337, 1343.5162337662337, 1343.5162337662337, 1343.5162337662337, 1343.5162337662337, 1343.5162337662337, 1343.5162337662337, 1343.5162337662337, 1343.5162337662337, 1343.5162337662337, 1343.5162337662337, 1343.5162337662337, 1343.5162337662337, 1343.5162337662337, 1343.5162337662337, 1343.5162337662337, 1343.5162337662337, 1343.5162337662337, 1343.5162337662337, 1343.5162337662337, 1343.5162337662337, 1343.5162337662337, 1343.5162337662337, 1343.5162337662337, 1343.5162337662337, 1343.5162337662337]}],                        {\"template\": {\"data\": {\"bar\": [{\"error_x\": {\"color\": \"#2a3f5f\"}, \"error_y\": {\"color\": \"#2a3f5f\"}, \"marker\": {\"line\": {\"color\": \"#E5ECF6\", \"width\": 0.5}}, \"type\": \"bar\"}], \"barpolar\": [{\"marker\": {\"line\": {\"color\": \"#E5ECF6\", \"width\": 0.5}}, \"type\": \"barpolar\"}], \"carpet\": [{\"aaxis\": {\"endlinecolor\": \"#2a3f5f\", \"gridcolor\": \"white\", \"linecolor\": \"white\", \"minorgridcolor\": \"white\", \"startlinecolor\": \"#2a3f5f\"}, \"baxis\": {\"endlinecolor\": \"#2a3f5f\", \"gridcolor\": \"white\", \"linecolor\": \"white\", \"minorgridcolor\": \"white\", \"startlinecolor\": \"#2a3f5f\"}, \"type\": \"carpet\"}], \"choropleth\": [{\"colorbar\": {\"outlinewidth\": 0, \"ticks\": \"\"}, \"type\": \"choropleth\"}], \"contour\": [{\"colorbar\": {\"outlinewidth\": 0, \"ticks\": \"\"}, \"colorscale\": [[0.0, \"#0d0887\"], [0.1111111111111111, \"#46039f\"], [0.2222222222222222, \"#7201a8\"], [0.3333333333333333, \"#9c179e\"], [0.4444444444444444, \"#bd3786\"], [0.5555555555555556, \"#d8576b\"], [0.6666666666666666, \"#ed7953\"], [0.7777777777777778, \"#fb9f3a\"], [0.8888888888888888, \"#fdca26\"], [1.0, \"#f0f921\"]], \"type\": \"contour\"}], \"contourcarpet\": [{\"colorbar\": {\"outlinewidth\": 0, \"ticks\": \"\"}, \"type\": \"contourcarpet\"}], \"heatmap\": [{\"colorbar\": {\"outlinewidth\": 0, \"ticks\": \"\"}, \"colorscale\": [[0.0, \"#0d0887\"], [0.1111111111111111, \"#46039f\"], [0.2222222222222222, \"#7201a8\"], [0.3333333333333333, \"#9c179e\"], [0.4444444444444444, \"#bd3786\"], [0.5555555555555556, \"#d8576b\"], [0.6666666666666666, \"#ed7953\"], [0.7777777777777778, \"#fb9f3a\"], [0.8888888888888888, \"#fdca26\"], [1.0, \"#f0f921\"]], \"type\": \"heatmap\"}], \"heatmapgl\": [{\"colorbar\": {\"outlinewidth\": 0, \"ticks\": \"\"}, \"colorscale\": [[0.0, \"#0d0887\"], [0.1111111111111111, \"#46039f\"], [0.2222222222222222, \"#7201a8\"], [0.3333333333333333, \"#9c179e\"], [0.4444444444444444, \"#bd3786\"], [0.5555555555555556, \"#d8576b\"], [0.6666666666666666, \"#ed7953\"], [0.7777777777777778, \"#fb9f3a\"], [0.8888888888888888, \"#fdca26\"], [1.0, \"#f0f921\"]], \"type\": \"heatmapgl\"}], \"histogram\": [{\"marker\": {\"colorbar\": {\"outlinewidth\": 0, \"ticks\": \"\"}}, \"type\": \"histogram\"}], \"histogram2d\": [{\"colorbar\": {\"outlinewidth\": 0, \"ticks\": \"\"}, \"colorscale\": [[0.0, \"#0d0887\"], [0.1111111111111111, \"#46039f\"], [0.2222222222222222, \"#7201a8\"], [0.3333333333333333, \"#9c179e\"], [0.4444444444444444, \"#bd3786\"], [0.5555555555555556, \"#d8576b\"], [0.6666666666666666, \"#ed7953\"], [0.7777777777777778, \"#fb9f3a\"], [0.8888888888888888, \"#fdca26\"], [1.0, \"#f0f921\"]], \"type\": \"histogram2d\"}], \"histogram2dcontour\": [{\"colorbar\": {\"outlinewidth\": 0, \"ticks\": \"\"}, \"colorscale\": [[0.0, \"#0d0887\"], [0.1111111111111111, \"#46039f\"], [0.2222222222222222, \"#7201a8\"], [0.3333333333333333, \"#9c179e\"], [0.4444444444444444, \"#bd3786\"], [0.5555555555555556, \"#d8576b\"], [0.6666666666666666, \"#ed7953\"], [0.7777777777777778, \"#fb9f3a\"], [0.8888888888888888, \"#fdca26\"], [1.0, \"#f0f921\"]], \"type\": \"histogram2dcontour\"}], \"mesh3d\": [{\"colorbar\": {\"outlinewidth\": 0, \"ticks\": \"\"}, \"type\": \"mesh3d\"}], \"parcoords\": [{\"line\": {\"colorbar\": {\"outlinewidth\": 0, \"ticks\": \"\"}}, \"type\": \"parcoords\"}], \"pie\": [{\"automargin\": true, \"type\": \"pie\"}], \"scatter\": [{\"marker\": {\"colorbar\": {\"outlinewidth\": 0, \"ticks\": \"\"}}, \"type\": \"scatter\"}], \"scatter3d\": [{\"line\": {\"colorbar\": {\"outlinewidth\": 0, \"ticks\": \"\"}}, \"marker\": {\"colorbar\": {\"outlinewidth\": 0, \"ticks\": \"\"}}, \"type\": \"scatter3d\"}], \"scattercarpet\": [{\"marker\": {\"colorbar\": {\"outlinewidth\": 0, \"ticks\": \"\"}}, \"type\": \"scattercarpet\"}], \"scattergeo\": [{\"marker\": {\"colorbar\": {\"outlinewidth\": 0, \"ticks\": \"\"}}, \"type\": \"scattergeo\"}], \"scattergl\": [{\"marker\": {\"colorbar\": {\"outlinewidth\": 0, \"ticks\": \"\"}}, \"type\": \"scattergl\"}], \"scattermapbox\": [{\"marker\": {\"colorbar\": {\"outlinewidth\": 0, \"ticks\": \"\"}}, \"type\": \"scattermapbox\"}], \"scatterpolar\": [{\"marker\": {\"colorbar\": {\"outlinewidth\": 0, \"ticks\": \"\"}}, \"type\": \"scatterpolar\"}], \"scatterpolargl\": [{\"marker\": {\"colorbar\": {\"outlinewidth\": 0, \"ticks\": \"\"}}, \"type\": \"scatterpolargl\"}], \"scatterternary\": [{\"marker\": {\"colorbar\": {\"outlinewidth\": 0, \"ticks\": \"\"}}, \"type\": \"scatterternary\"}], \"surface\": [{\"colorbar\": {\"outlinewidth\": 0, \"ticks\": \"\"}, \"colorscale\": [[0.0, \"#0d0887\"], [0.1111111111111111, \"#46039f\"], [0.2222222222222222, \"#7201a8\"], [0.3333333333333333, \"#9c179e\"], [0.4444444444444444, \"#bd3786\"], [0.5555555555555556, \"#d8576b\"], [0.6666666666666666, \"#ed7953\"], [0.7777777777777778, \"#fb9f3a\"], [0.8888888888888888, \"#fdca26\"], [1.0, \"#f0f921\"]], \"type\": \"surface\"}], \"table\": [{\"cells\": {\"fill\": {\"color\": \"#EBF0F8\"}, \"line\": {\"color\": \"white\"}}, \"header\": {\"fill\": {\"color\": \"#C8D4E3\"}, \"line\": {\"color\": \"white\"}}, \"type\": \"table\"}]}, \"layout\": {\"annotationdefaults\": {\"arrowcolor\": \"#2a3f5f\", \"arrowhead\": 0, \"arrowwidth\": 1}, \"autotypenumbers\": \"strict\", \"coloraxis\": {\"colorbar\": {\"outlinewidth\": 0, \"ticks\": \"\"}}, \"colorscale\": {\"diverging\": [[0, \"#8e0152\"], [0.1, \"#c51b7d\"], [0.2, \"#de77ae\"], [0.3, \"#f1b6da\"], [0.4, \"#fde0ef\"], [0.5, \"#f7f7f7\"], [0.6, \"#e6f5d0\"], [0.7, \"#b8e186\"], [0.8, \"#7fbc41\"], [0.9, \"#4d9221\"], [1, \"#276419\"]], \"sequential\": [[0.0, \"#0d0887\"], [0.1111111111111111, \"#46039f\"], [0.2222222222222222, \"#7201a8\"], [0.3333333333333333, \"#9c179e\"], [0.4444444444444444, \"#bd3786\"], [0.5555555555555556, \"#d8576b\"], [0.6666666666666666, \"#ed7953\"], [0.7777777777777778, \"#fb9f3a\"], [0.8888888888888888, \"#fdca26\"], [1.0, \"#f0f921\"]], \"sequentialminus\": [[0.0, \"#0d0887\"], [0.1111111111111111, \"#46039f\"], [0.2222222222222222, \"#7201a8\"], [0.3333333333333333, \"#9c179e\"], [0.4444444444444444, \"#bd3786\"], [0.5555555555555556, \"#d8576b\"], [0.6666666666666666, \"#ed7953\"], [0.7777777777777778, \"#fb9f3a\"], [0.8888888888888888, \"#fdca26\"], [1.0, \"#f0f921\"]]}, \"colorway\": [\"#636efa\", \"#EF553B\", \"#00cc96\", \"#ab63fa\", \"#FFA15A\", \"#19d3f3\", \"#FF6692\", \"#B6E880\", \"#FF97FF\", \"#FECB52\"], \"font\": {\"color\": \"#2a3f5f\"}, \"geo\": {\"bgcolor\": \"white\", \"lakecolor\": \"white\", \"landcolor\": \"#E5ECF6\", \"showlakes\": true, \"showland\": true, \"subunitcolor\": \"white\"}, \"hoverlabel\": {\"align\": \"left\"}, \"hovermode\": \"closest\", \"mapbox\": {\"style\": \"light\"}, \"paper_bgcolor\": \"white\", \"plot_bgcolor\": \"#E5ECF6\", \"polar\": {\"angularaxis\": {\"gridcolor\": \"white\", \"linecolor\": \"white\", \"ticks\": \"\"}, \"bgcolor\": \"#E5ECF6\", \"radialaxis\": {\"gridcolor\": \"white\", \"linecolor\": \"white\", \"ticks\": \"\"}}, \"scene\": {\"xaxis\": {\"backgroundcolor\": \"#E5ECF6\", \"gridcolor\": \"white\", \"gridwidth\": 2, \"linecolor\": \"white\", \"showbackground\": true, \"ticks\": \"\", \"zerolinecolor\": \"white\"}, \"yaxis\": {\"backgroundcolor\": \"#E5ECF6\", \"gridcolor\": \"white\", \"gridwidth\": 2, \"linecolor\": \"white\", \"showbackground\": true, \"ticks\": \"\", \"zerolinecolor\": \"white\"}, \"zaxis\": {\"backgroundcolor\": \"#E5ECF6\", \"gridcolor\": \"white\", \"gridwidth\": 2, \"linecolor\": \"white\", \"showbackground\": true, \"ticks\": \"\", \"zerolinecolor\": \"white\"}}, \"shapedefaults\": {\"line\": {\"color\": \"#2a3f5f\"}}, \"ternary\": {\"aaxis\": {\"gridcolor\": \"white\", \"linecolor\": \"white\", \"ticks\": \"\"}, \"baxis\": {\"gridcolor\": \"white\", \"linecolor\": \"white\", \"ticks\": \"\"}, \"bgcolor\": \"#E5ECF6\", \"caxis\": {\"gridcolor\": \"white\", \"linecolor\": \"white\", \"ticks\": \"\"}}, \"title\": {\"x\": 0.05}, \"xaxis\": {\"automargin\": true, \"gridcolor\": \"white\", \"linecolor\": \"white\", \"ticks\": \"\", \"title\": {\"standoff\": 15}, \"zerolinecolor\": \"white\", \"zerolinewidth\": 2}, \"yaxis\": {\"automargin\": true, \"gridcolor\": \"white\", \"linecolor\": \"white\", \"ticks\": \"\", \"title\": {\"standoff\": 15}, \"zerolinecolor\": \"white\", \"zerolinewidth\": 2}}}, \"title\": {\"text\": \"Title\"}},                        {\"responsive\": true}                    ).then(function(){\n",
       "                            \n",
       "var gd = document.getElementById('e8bc2ba7-b045-4bb3-b2b0-0c3976e09081');\n",
       "var x = new MutationObserver(function (mutations, observer) {{\n",
       "        var display = window.getComputedStyle(gd).display;\n",
       "        if (!display || display === 'none') {{\n",
       "            console.log([gd, 'removed!']);\n",
       "            Plotly.purge(gd);\n",
       "            observer.disconnect();\n",
       "        }}\n",
       "}});\n",
       "\n",
       "// Listen for the removal of the full notebook cells\n",
       "var notebookContainer = gd.closest('#notebook-container');\n",
       "if (notebookContainer) {{\n",
       "    x.observe(notebookContainer, {childList: true});\n",
       "}}\n",
       "\n",
       "// Listen for the clearing of the current output cell\n",
       "var outputEl = gd.closest('.output');\n",
       "if (outputEl) {{\n",
       "    x.observe(outputEl, {childList: true});\n",
       "}}\n",
       "\n",
       "                        })                };                });            </script>        </div>"
      ]
     },
     "metadata": {},
     "output_type": "display_data"
    }
   ],
   "source": [
    "s = 10005\n",
    "period = \"date\"\n",
    "enter = 1\n",
    "\n",
    "temp = df.loc[(df[\"Sorte\"] == s) & (df[\"enter\"] == enter), [\"Menge\", period, \"enter\", \"pred\"]].groupby([period, \"enter\", \"pred\"]).sum()\n",
    "temp.reset_index(inplace=True)\n",
    "fig = go.Figure()\n",
    "fig.add_trace(go.Scatter(x=temp[period], y=temp['Menge'], mode='lines', name='i')) \n",
    "fig.update_layout(title='Title',\n",
    "                  )\n",
    "fig.update_traces(opacity=0.75)\n",
    "fig.show()"
   ]
  },
  {
   "cell_type": "code",
   "execution_count": null,
   "id": "d1b795f7",
   "metadata": {},
   "outputs": [],
   "source": []
  }
 ],
 "metadata": {
  "kernelspec": {
   "display_name": "Python 3 (ipykernel)",
   "language": "python",
   "name": "python3"
  },
  "language_info": {
   "codemirror_mode": {
    "name": "ipython",
    "version": 3
   },
   "file_extension": ".py",
   "mimetype": "text/x-python",
   "name": "python",
   "nbconvert_exporter": "python",
   "pygments_lexer": "ipython3",
   "version": "3.9.7"
  }
 },
 "nbformat": 4,
 "nbformat_minor": 5
}
