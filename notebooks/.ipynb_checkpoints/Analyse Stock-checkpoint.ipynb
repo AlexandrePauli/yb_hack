{
 "cells": [
  {
   "cell_type": "code",
   "execution_count": 1,
   "id": "b52a3973",
   "metadata": {},
   "outputs": [],
   "source": [
    "%load_ext autoreload\n",
    "%autoreload 2"
   ]
  },
  {
   "cell_type": "code",
   "execution_count": 2,
   "id": "0e130e4e",
   "metadata": {},
   "outputs": [],
   "source": [
    "import os\n",
    "import sys\n",
    "import pandas as pd\n",
    "import numpy\n",
    "import plotly.graph_objects as go"
   ]
  },
  {
   "cell_type": "code",
   "execution_count": 3,
   "id": "11feb9d8",
   "metadata": {},
   "outputs": [],
   "source": [
    "pd.options.display.max_columns = None\n",
    "pd.options.display.max_rows = 500"
   ]
  },
  {
   "cell_type": "code",
   "execution_count": 4,
   "id": "4d981abb",
   "metadata": {},
   "outputs": [],
   "source": [
    "root = \"yb_hack\"\n",
    "sys.path.append(os.getcwd()[:os.getcwd().find(root)+len(root)])"
   ]
  },
  {
   "cell_type": "code",
   "execution_count": 5,
   "id": "f2689550",
   "metadata": {},
   "outputs": [],
   "source": [
    "BATH_PATH= r'C:\\\\Users\\\\Swiss SDI\\\\OneDrive\\\\Bureau\\\\hackathon\\\\yb_hack\\\\data\\\\Daten'"
   ]
  },
  {
   "cell_type": "code",
   "execution_count": 16,
   "id": "a3383d7d",
   "metadata": {},
   "outputs": [],
   "source": [
    "lz_path = os.path.join(BATH_PATH, '0_Lagerzugänge 110_200_10_01.01.20_31.05.20.xlsx')\n",
    "lz = pd.read_excel(io=lz_path, header=2)\n",
    "la_path = os.path.join(BATH_PATH, '0_Lagerabgänge 110_200_10_01.01.20_31.05.20.xlsx')\n",
    "la = pd.read_excel(io=la_path, header=2)\n",
    "sorten_path = os.path.join(BATH_PATH, '0_Sorten_und_Sortengruppen.xlsx')\n",
    "sorten = pd.read_excel(io=sorten_path, header=0)"
   ]
  },
  {
   "cell_type": "code",
   "execution_count": 17,
   "id": "14df5d16",
   "metadata": {},
   "outputs": [
    {
     "data": {
      "text/html": [
       "<div>\n",
       "<style scoped>\n",
       "    .dataframe tbody tr th:only-of-type {\n",
       "        vertical-align: middle;\n",
       "    }\n",
       "\n",
       "    .dataframe tbody tr th {\n",
       "        vertical-align: top;\n",
       "    }\n",
       "\n",
       "    .dataframe thead th {\n",
       "        text-align: right;\n",
       "    }\n",
       "</style>\n",
       "<table border=\"1\" class=\"dataframe\">\n",
       "  <thead>\n",
       "    <tr style=\"text-align: right;\">\n",
       "      <th></th>\n",
       "      <th>Gruppe</th>\n",
       "      <th>Sorte</th>\n",
       "      <th>Sortenbezeichnung</th>\n",
       "      <th>Menge</th>\n",
       "      <th>Preis</th>\n",
       "      <th>ME</th>\n",
       "      <th>Kosten</th>\n",
       "      <th>Wert</th>\n",
       "      <th>L-Datum</th>\n",
       "      <th>Wiege-Nr.</th>\n",
       "      <th>Konto</th>\n",
       "      <th>Beleg-Nr</th>\n",
       "      <th>Lager</th>\n",
       "      <th>Abt</th>\n",
       "      <th>PC</th>\n",
       "      <th>Waggon/KFZ</th>\n",
       "      <th>Kontrakt</th>\n",
       "      <th>SB</th>\n",
       "      <th>WIP</th>\n",
       "      <th>Scheck</th>\n",
       "    </tr>\n",
       "  </thead>\n",
       "  <tbody>\n",
       "    <tr>\n",
       "      <th>0</th>\n",
       "      <td>105.0</td>\n",
       "      <td>11161.0</td>\n",
       "      <td>Schwerschrott 8s2</td>\n",
       "      <td>0.0</td>\n",
       "      <td>0.0</td>\n",
       "      <td>to</td>\n",
       "      <td>0.0</td>\n",
       "      <td>-510.2</td>\n",
       "      <td>2020-01-01</td>\n",
       "      <td>0.0</td>\n",
       "      <td>9110610.0</td>\n",
       "      <td>130050808</td>\n",
       "      <td>200.0</td>\n",
       "      <td>110.0</td>\n",
       "      <td>0.0</td>\n",
       "      <td>NaN</td>\n",
       "      <td>NaN</td>\n",
       "      <td>DOG</td>\n",
       "      <td>NaN</td>\n",
       "      <td>0.0</td>\n",
       "    </tr>\n",
       "  </tbody>\n",
       "</table>\n",
       "</div>"
      ],
      "text/plain": [
       "   Gruppe    Sorte  Sortenbezeichnung  Menge  Preis  ME  Kosten   Wert  \\\n",
       "0   105.0  11161.0  Schwerschrott 8s2    0.0    0.0  to     0.0 -510.2   \n",
       "\n",
       "     L-Datum  Wiege-Nr.      Konto   Beleg-Nr  Lager    Abt   PC Waggon/KFZ  \\\n",
       "0 2020-01-01        0.0  9110610.0  130050808  200.0  110.0  0.0        NaN   \n",
       "\n",
       "   Kontrakt   SB  WIP  Scheck  \n",
       "0       NaN  DOG  NaN     0.0  "
      ]
     },
     "execution_count": 17,
     "metadata": {},
     "output_type": "execute_result"
    }
   ],
   "source": [
    "lz.head(1)"
   ]
  },
  {
   "cell_type": "code",
   "execution_count": 18,
   "id": "e582f94e",
   "metadata": {},
   "outputs": [
    {
     "data": {
      "text/html": [
       "<div>\n",
       "<style scoped>\n",
       "    .dataframe tbody tr th:only-of-type {\n",
       "        vertical-align: middle;\n",
       "    }\n",
       "\n",
       "    .dataframe tbody tr th {\n",
       "        vertical-align: top;\n",
       "    }\n",
       "\n",
       "    .dataframe thead th {\n",
       "        text-align: right;\n",
       "    }\n",
       "</style>\n",
       "<table border=\"1\" class=\"dataframe\">\n",
       "  <thead>\n",
       "    <tr style=\"text-align: right;\">\n",
       "      <th></th>\n",
       "      <th>Gruppe</th>\n",
       "      <th>Sorte</th>\n",
       "      <th>Sortenbezeichnung</th>\n",
       "      <th>Menge</th>\n",
       "      <th>Preis</th>\n",
       "      <th>ME</th>\n",
       "      <th>Kosten</th>\n",
       "      <th>Wert</th>\n",
       "      <th>L-Datum</th>\n",
       "      <th>Wiege-Nr.</th>\n",
       "      <th>Konto</th>\n",
       "      <th>Beleg-Nr</th>\n",
       "      <th>Lager</th>\n",
       "      <th>Abt</th>\n",
       "      <th>PC</th>\n",
       "      <th>Waggon/KFZ</th>\n",
       "      <th>Kontrakt</th>\n",
       "      <th>SB</th>\n",
       "      <th>WIP</th>\n",
       "      <th>Scheck</th>\n",
       "    </tr>\n",
       "  </thead>\n",
       "  <tbody>\n",
       "    <tr>\n",
       "      <th>0</th>\n",
       "      <td>100.0</td>\n",
       "      <td>10000.0</td>\n",
       "      <td>Leichteisen / Shreddervormaterial</td>\n",
       "      <td>0</td>\n",
       "      <td>0.0</td>\n",
       "      <td>to</td>\n",
       "      <td>0.0</td>\n",
       "      <td>11.8</td>\n",
       "      <td>2020-01-01</td>\n",
       "      <td>1.0</td>\n",
       "      <td>9110620.0</td>\n",
       "      <td>130050609</td>\n",
       "      <td>200.0</td>\n",
       "      <td>110.0</td>\n",
       "      <td>0.0</td>\n",
       "      <td>NaN</td>\n",
       "      <td>NaN</td>\n",
       "      <td>ANA</td>\n",
       "      <td>NaN</td>\n",
       "      <td>0.0</td>\n",
       "    </tr>\n",
       "  </tbody>\n",
       "</table>\n",
       "</div>"
      ],
      "text/plain": [
       "   Gruppe    Sorte                   Sortenbezeichnung  Menge  Preis  ME  \\\n",
       "0   100.0  10000.0  Leichteisen / Shreddervormaterial       0    0.0  to   \n",
       "\n",
       "   Kosten  Wert    L-Datum  Wiege-Nr.      Konto   Beleg-Nr  Lager    Abt  \\\n",
       "0     0.0  11.8 2020-01-01        1.0  9110620.0  130050609  200.0  110.0   \n",
       "\n",
       "    PC Waggon/KFZ Kontrakt   SB  WIP  Scheck  \n",
       "0  0.0        NaN      NaN  ANA  NaN     0.0  "
      ]
     },
     "execution_count": 18,
     "metadata": {},
     "output_type": "execute_result"
    }
   ],
   "source": [
    "la.head(1)"
   ]
  },
  {
   "cell_type": "code",
   "execution_count": 19,
   "id": "8345dede",
   "metadata": {},
   "outputs": [
    {
     "data": {
      "text/html": [
       "<div>\n",
       "<style scoped>\n",
       "    .dataframe tbody tr th:only-of-type {\n",
       "        vertical-align: middle;\n",
       "    }\n",
       "\n",
       "    .dataframe tbody tr th {\n",
       "        vertical-align: top;\n",
       "    }\n",
       "\n",
       "    .dataframe thead th {\n",
       "        text-align: right;\n",
       "    }\n",
       "</style>\n",
       "<table border=\"1\" class=\"dataframe\">\n",
       "  <thead>\n",
       "    <tr style=\"text-align: right;\">\n",
       "      <th></th>\n",
       "      <th>Gruppe</th>\n",
       "      <th>Gruppe Kurzname</th>\n",
       "      <th>Sorte</th>\n",
       "      <th>Kurzname</th>\n",
       "      <th>Bezeichnung</th>\n",
       "      <th>Sortenklasse</th>\n",
       "      <th>Sparte</th>\n",
       "      <th>Mengeneinheit</th>\n",
       "      <th>Umrechnungsfaktor Einkauf</th>\n",
       "      <th>je ME</th>\n",
       "      <th>Umrechnungsfaktor Verkauf</th>\n",
       "      <th>je ME.1</th>\n",
       "    </tr>\n",
       "  </thead>\n",
       "  <tbody>\n",
       "    <tr>\n",
       "      <th>0</th>\n",
       "      <td>100</td>\n",
       "      <td>SHREDDERPR</td>\n",
       "      <td>10000</td>\n",
       "      <td>LEICHTEISE</td>\n",
       "      <td>Leichteisen / Shreddervormaterial</td>\n",
       "      <td>Bestandsführung auf Gruppenebene</td>\n",
       "      <td>FE-Schrott</td>\n",
       "      <td>to</td>\n",
       "      <td>0</td>\n",
       "      <td>NaN</td>\n",
       "      <td>0</td>\n",
       "      <td>NaN</td>\n",
       "    </tr>\n",
       "  </tbody>\n",
       "</table>\n",
       "</div>"
      ],
      "text/plain": [
       "   Gruppe Gruppe Kurzname  Sorte    Kurzname  \\\n",
       "0     100      SHREDDERPR  10000  LEICHTEISE   \n",
       "\n",
       "                         Bezeichnung                      Sortenklasse  \\\n",
       "0  Leichteisen / Shreddervormaterial  Bestandsführung auf Gruppenebene   \n",
       "\n",
       "       Sparte Mengeneinheit  Umrechnungsfaktor Einkauf je ME  \\\n",
       "0  FE-Schrott            to                          0   NaN   \n",
       "\n",
       "   Umrechnungsfaktor Verkauf je ME.1  \n",
       "0                          0     NaN  "
      ]
     },
     "execution_count": 19,
     "metadata": {},
     "output_type": "execute_result"
    }
   ],
   "source": [
    "sorten.head(1)"
   ]
  },
  {
   "cell_type": "markdown",
   "id": "8215c29a",
   "metadata": {},
   "source": [
    "# Analyse Stock"
   ]
  },
  {
   "cell_type": "code",
   "execution_count": null,
   "id": "636ae676",
   "metadata": {},
   "outputs": [],
   "source": []
  }
 ],
 "metadata": {
  "kernelspec": {
   "display_name": "Python 3 (ipykernel)",
   "language": "python",
   "name": "python3"
  },
  "language_info": {
   "codemirror_mode": {
    "name": "ipython",
    "version": 3
   },
   "file_extension": ".py",
   "mimetype": "text/x-python",
   "name": "python",
   "nbconvert_exporter": "python",
   "pygments_lexer": "ipython3",
   "version": "3.9.7"
  }
 },
 "nbformat": 4,
 "nbformat_minor": 5
}
